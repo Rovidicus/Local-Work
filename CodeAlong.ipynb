{
 "cells": [
  {
   "cell_type": "markdown",
   "id": "6b6efd94-74a1-4575-bbec-2e67eb4d0bed",
   "metadata": {},
   "source": [
    "### First Codealong"
   ]
  },
  {
   "cell_type": "code",
   "execution_count": 2,
   "id": "5e85ad16-11d3-4889-a3c6-b0bfcaaf4e4e",
   "metadata": {},
   "outputs": [],
   "source": [
    "import pandas as pd\n",
    "import seaborn as sns\n",
    "import matplotlib.pyplot as plt"
   ]
  },
  {
   "cell_type": "code",
   "execution_count": 3,
   "id": "d9823eed-f977-492c-bbd6-1131c6ccba52",
   "metadata": {},
   "outputs": [],
   "source": [
    "df = pd.read_csv(\"Data/data_science_salary_2021.csv\")"
   ]
  },
  {
   "cell_type": "code",
   "execution_count": 4,
   "id": "d8db72fb-a09a-4334-9afa-519374860d7f",
   "metadata": {},
   "outputs": [
    {
     "data": {
      "text/html": [
       "<div>\n",
       "<style scoped>\n",
       "    .dataframe tbody tr th:only-of-type {\n",
       "        vertical-align: middle;\n",
       "    }\n",
       "\n",
       "    .dataframe tbody tr th {\n",
       "        vertical-align: top;\n",
       "    }\n",
       "\n",
       "    .dataframe thead th {\n",
       "        text-align: right;\n",
       "    }\n",
       "</style>\n",
       "<table border=\"1\" class=\"dataframe\">\n",
       "  <thead>\n",
       "    <tr style=\"text-align: right;\">\n",
       "      <th></th>\n",
       "      <th>index</th>\n",
       "      <th>Job Title</th>\n",
       "      <th>Salary Estimate</th>\n",
       "      <th>Job Description</th>\n",
       "      <th>Rating</th>\n",
       "      <th>Company Name</th>\n",
       "      <th>Location</th>\n",
       "      <th>Headquarters</th>\n",
       "      <th>Size</th>\n",
       "      <th>Founded</th>\n",
       "      <th>...</th>\n",
       "      <th>tensor</th>\n",
       "      <th>hadoop</th>\n",
       "      <th>tableau</th>\n",
       "      <th>bi</th>\n",
       "      <th>flink</th>\n",
       "      <th>mongo</th>\n",
       "      <th>google_an</th>\n",
       "      <th>job_title_sim</th>\n",
       "      <th>seniority_by_title</th>\n",
       "      <th>Degree</th>\n",
       "    </tr>\n",
       "  </thead>\n",
       "  <tbody>\n",
       "    <tr>\n",
       "      <th>0</th>\n",
       "      <td>0</td>\n",
       "      <td>Data Scientist</td>\n",
       "      <td>$53K-$91K (Glassdoor est.)</td>\n",
       "      <td>Data Scientist\\nLocation: Albuquerque, NM\\nEdu...</td>\n",
       "      <td>3.8</td>\n",
       "      <td>Tecolote Research\\n3.8</td>\n",
       "      <td>Albuquerque, NM</td>\n",
       "      <td>Goleta, CA</td>\n",
       "      <td>501 - 1000</td>\n",
       "      <td>1973</td>\n",
       "      <td>...</td>\n",
       "      <td>0</td>\n",
       "      <td>0</td>\n",
       "      <td>1</td>\n",
       "      <td>1</td>\n",
       "      <td>0</td>\n",
       "      <td>0</td>\n",
       "      <td>0</td>\n",
       "      <td>data scientist</td>\n",
       "      <td>na</td>\n",
       "      <td>M</td>\n",
       "    </tr>\n",
       "    <tr>\n",
       "      <th>1</th>\n",
       "      <td>1</td>\n",
       "      <td>Healthcare Data Scientist</td>\n",
       "      <td>$63K-$112K (Glassdoor est.)</td>\n",
       "      <td>What You Will Do:\\n\\nI. General Summary\\n\\nThe...</td>\n",
       "      <td>3.4</td>\n",
       "      <td>University of Maryland Medical System\\n3.4</td>\n",
       "      <td>Linthicum, MD</td>\n",
       "      <td>Baltimore, MD</td>\n",
       "      <td>10000+</td>\n",
       "      <td>1984</td>\n",
       "      <td>...</td>\n",
       "      <td>0</td>\n",
       "      <td>0</td>\n",
       "      <td>0</td>\n",
       "      <td>0</td>\n",
       "      <td>0</td>\n",
       "      <td>0</td>\n",
       "      <td>0</td>\n",
       "      <td>data scientist</td>\n",
       "      <td>na</td>\n",
       "      <td>M</td>\n",
       "    </tr>\n",
       "    <tr>\n",
       "      <th>2</th>\n",
       "      <td>2</td>\n",
       "      <td>Data Scientist</td>\n",
       "      <td>$80K-$90K (Glassdoor est.)</td>\n",
       "      <td>KnowBe4, Inc. is a high growth information sec...</td>\n",
       "      <td>4.8</td>\n",
       "      <td>KnowBe4\\n4.8</td>\n",
       "      <td>Clearwater, FL</td>\n",
       "      <td>Clearwater, FL</td>\n",
       "      <td>501 - 1000</td>\n",
       "      <td>2010</td>\n",
       "      <td>...</td>\n",
       "      <td>0</td>\n",
       "      <td>0</td>\n",
       "      <td>0</td>\n",
       "      <td>0</td>\n",
       "      <td>0</td>\n",
       "      <td>0</td>\n",
       "      <td>0</td>\n",
       "      <td>data scientist</td>\n",
       "      <td>na</td>\n",
       "      <td>M</td>\n",
       "    </tr>\n",
       "    <tr>\n",
       "      <th>3</th>\n",
       "      <td>3</td>\n",
       "      <td>Data Scientist</td>\n",
       "      <td>$56K-$97K (Glassdoor est.)</td>\n",
       "      <td>*Organization and Job ID**\\nJob ID: 310709\\n\\n...</td>\n",
       "      <td>3.8</td>\n",
       "      <td>PNNL\\n3.8</td>\n",
       "      <td>Richland, WA</td>\n",
       "      <td>Richland, WA</td>\n",
       "      <td>1001 - 5000</td>\n",
       "      <td>1965</td>\n",
       "      <td>...</td>\n",
       "      <td>0</td>\n",
       "      <td>0</td>\n",
       "      <td>0</td>\n",
       "      <td>0</td>\n",
       "      <td>0</td>\n",
       "      <td>0</td>\n",
       "      <td>0</td>\n",
       "      <td>data scientist</td>\n",
       "      <td>na</td>\n",
       "      <td>na</td>\n",
       "    </tr>\n",
       "    <tr>\n",
       "      <th>4</th>\n",
       "      <td>4</td>\n",
       "      <td>Data Scientist</td>\n",
       "      <td>$86K-$143K (Glassdoor est.)</td>\n",
       "      <td>Data Scientist\\nAffinity Solutions / Marketing...</td>\n",
       "      <td>2.9</td>\n",
       "      <td>Affinity Solutions\\n2.9</td>\n",
       "      <td>New York, NY</td>\n",
       "      <td>New York, NY</td>\n",
       "      <td>51 - 200</td>\n",
       "      <td>1998</td>\n",
       "      <td>...</td>\n",
       "      <td>0</td>\n",
       "      <td>0</td>\n",
       "      <td>0</td>\n",
       "      <td>0</td>\n",
       "      <td>0</td>\n",
       "      <td>0</td>\n",
       "      <td>0</td>\n",
       "      <td>data scientist</td>\n",
       "      <td>na</td>\n",
       "      <td>na</td>\n",
       "    </tr>\n",
       "  </tbody>\n",
       "</table>\n",
       "<p>5 rows × 42 columns</p>\n",
       "</div>"
      ],
      "text/plain": [
       "   index                  Job Title              Salary Estimate  \\\n",
       "0      0             Data Scientist   $53K-$91K (Glassdoor est.)   \n",
       "1      1  Healthcare Data Scientist  $63K-$112K (Glassdoor est.)   \n",
       "2      2             Data Scientist   $80K-$90K (Glassdoor est.)   \n",
       "3      3             Data Scientist   $56K-$97K (Glassdoor est.)   \n",
       "4      4             Data Scientist  $86K-$143K (Glassdoor est.)   \n",
       "\n",
       "                                     Job Description  Rating  \\\n",
       "0  Data Scientist\\nLocation: Albuquerque, NM\\nEdu...     3.8   \n",
       "1  What You Will Do:\\n\\nI. General Summary\\n\\nThe...     3.4   \n",
       "2  KnowBe4, Inc. is a high growth information sec...     4.8   \n",
       "3  *Organization and Job ID**\\nJob ID: 310709\\n\\n...     3.8   \n",
       "4  Data Scientist\\nAffinity Solutions / Marketing...     2.9   \n",
       "\n",
       "                                 Company Name         Location  \\\n",
       "0                      Tecolote Research\\n3.8  Albuquerque, NM   \n",
       "1  University of Maryland Medical System\\n3.4    Linthicum, MD   \n",
       "2                                KnowBe4\\n4.8   Clearwater, FL   \n",
       "3                                   PNNL\\n3.8     Richland, WA   \n",
       "4                     Affinity Solutions\\n2.9     New York, NY   \n",
       "\n",
       "     Headquarters         Size  Founded  ... tensor hadoop tableau bi flink  \\\n",
       "0      Goleta, CA   501 - 1000     1973  ...      0      0       1  1     0   \n",
       "1   Baltimore, MD       10000+     1984  ...      0      0       0  0     0   \n",
       "2  Clearwater, FL   501 - 1000     2010  ...      0      0       0  0     0   \n",
       "3    Richland, WA  1001 - 5000     1965  ...      0      0       0  0     0   \n",
       "4    New York, NY     51 - 200     1998  ...      0      0       0  0     0   \n",
       "\n",
       "   mongo  google_an   job_title_sim  seniority_by_title  Degree  \n",
       "0      0          0  data scientist                  na       M  \n",
       "1      0          0  data scientist                  na       M  \n",
       "2      0          0  data scientist                  na       M  \n",
       "3      0          0  data scientist                  na      na  \n",
       "4      0          0  data scientist                  na      na  \n",
       "\n",
       "[5 rows x 42 columns]"
      ]
     },
     "execution_count": 4,
     "metadata": {},
     "output_type": "execute_result"
    }
   ],
   "source": [
    "df.head()"
   ]
  },
  {
   "cell_type": "code",
   "execution_count": 5,
   "id": "50b10e0a-d3ae-4704-8b35-4b3e721dc541",
   "metadata": {},
   "outputs": [
    {
     "name": "stdout",
     "output_type": "stream",
     "text": [
      "<class 'pandas.core.frame.DataFrame'>\n",
      "RangeIndex: 742 entries, 0 to 741\n",
      "Data columns (total 42 columns):\n",
      " #   Column              Non-Null Count  Dtype  \n",
      "---  ------              --------------  -----  \n",
      " 0   index               742 non-null    int64  \n",
      " 1   Job Title           742 non-null    object \n",
      " 2   Salary Estimate     742 non-null    object \n",
      " 3   Job Description     742 non-null    object \n",
      " 4   Rating              742 non-null    float64\n",
      " 5   Company Name        742 non-null    object \n",
      " 6   Location            742 non-null    object \n",
      " 7   Headquarters        742 non-null    object \n",
      " 8   Size                742 non-null    object \n",
      " 9   Founded             742 non-null    int64  \n",
      " 10  Type of ownership   742 non-null    object \n",
      " 11  Industry            742 non-null    object \n",
      " 12  Sector              742 non-null    object \n",
      " 13  Revenue             742 non-null    object \n",
      " 14  Competitors         742 non-null    object \n",
      " 15  Hourly              742 non-null    int64  \n",
      " 16  Employer provided   742 non-null    int64  \n",
      " 17  Lower Salary        742 non-null    int64  \n",
      " 18  Upper Salary        742 non-null    int64  \n",
      " 19  Avg Salary(K)       742 non-null    float64\n",
      " 20  company_txt         742 non-null    object \n",
      " 21  Job Location        742 non-null    object \n",
      " 22  Age                 742 non-null    int64  \n",
      " 23  Python              742 non-null    int64  \n",
      " 24  spark               742 non-null    int64  \n",
      " 25  aws                 742 non-null    int64  \n",
      " 26  excel               742 non-null    int64  \n",
      " 27  sql                 742 non-null    int64  \n",
      " 28  sas                 742 non-null    int64  \n",
      " 29  keras               742 non-null    int64  \n",
      " 30  pytorch             742 non-null    int64  \n",
      " 31  scikit              742 non-null    int64  \n",
      " 32  tensor              742 non-null    int64  \n",
      " 33  hadoop              742 non-null    int64  \n",
      " 34  tableau             742 non-null    int64  \n",
      " 35  bi                  742 non-null    int64  \n",
      " 36  flink               742 non-null    int64  \n",
      " 37  mongo               742 non-null    int64  \n",
      " 38  google_an           742 non-null    int64  \n",
      " 39  job_title_sim       742 non-null    object \n",
      " 40  seniority_by_title  742 non-null    object \n",
      " 41  Degree              742 non-null    object \n",
      "dtypes: float64(2), int64(23), object(17)\n",
      "memory usage: 243.6+ KB\n"
     ]
    }
   ],
   "source": [
    "df.info()"
   ]
  },
  {
   "cell_type": "markdown",
   "id": "92555712-67d5-4dd0-9e25-e55c88b5a33c",
   "metadata": {},
   "source": [
    "### According to job_title_sim what is the mean average sim"
   ]
  },
  {
   "cell_type": "code",
   "execution_count": 6,
   "id": "fa5e7e6e-76b7-4a75-857c-f5c7cf013a18",
   "metadata": {},
   "outputs": [
    {
     "data": {
      "image/png": "[encoded data removed]",
      "text/plain": [
       "<Figure size 640x480 with 1 Axes>"
      ]
     },
     "metadata": {},
     "output_type": "display_data"
    }
   ],
   "source": [
    "ax = sns.barplot(data=df, x='job_title_sim',y='Avg Salary(K)')\n",
    "ax.set_xticklabels(ax.get_xticklabels(),rotation=45,ha = 'right');\n",
    "#plt.tick_params(labelrotation =45)"
   ]
  },
  {
   "cell_type": "code",
   "execution_count": 7,
   "id": "b8813cc8-8554-4dbf-87cd-ff2e086a3d9a",
   "metadata": {},
   "outputs": [
    {
     "data": {
      "text/plain": [
       "<Figure size 640x480 with 0 Axes>"
      ]
     },
     "metadata": {},
     "output_type": "display_data"
    }
   ],
   "source": [
    "# save barplot\n",
    "plt.savefig('barplot.png', bbox_inches='tight')"
   ]
  },
  {
   "cell_type": "code",
   "execution_count": null,
   "id": "12436807-c598-49ee-bb04-9caa7e3f42cd",
   "metadata": {},
   "outputs": [],
   "source": []
  },
  {
   "cell_type": "code",
   "execution_count": null,
   "id": "d4124007-f1c1-4a0b-a91e-358f9b4cbb65",
   "metadata": {},
   "outputs": [],
   "source": []
  }
 ],
 "metadata": {
  "kernelspec": {
   "display_name": "Python 3 (ipykernel)",
   "language": "python",
   "name": "python3"
  },
  "language_info": {
   "codemirror_mode": {
    "name": "ipython",
    "version": 3
   },
   "file_extension": ".py",
   "mimetype": "text/x-python",
   "name": "python",
   "nbconvert_exporter": "python",
   "pygments_lexer": "ipython3",
   "version": "3.10.10"
  },
  "widgets": {
   "application/vnd.jupyter.widget-state+json": {
    "state": {},
    "version_major": 2,
    "version_minor": 0
   }
  }
 },
 "nbformat": 4,
 "nbformat_minor": 5
}
