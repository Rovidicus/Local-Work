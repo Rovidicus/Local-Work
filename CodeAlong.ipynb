{
 "cells": [
  {
   "cell_type": "markdown",
   "id": "6b6efd94-74a1-4575-bbec-2e67eb4d0bed",
   "metadata": {},
   "source": [
    "### First Codealong"
   ]
  },
  {
   "cell_type": "code",
   "execution_count": 1,
   "id": "5e85ad16-11d3-4889-a3c6-b0bfcaaf4e4e",
   "metadata": {},
   "outputs": [],
   "source": [
    "import pandas as pd\n",
    "import seaborn as sns\n",
    "import matplotlib.pyplot as plt"
   ]
  },
  {
   "cell_type": "code",
   "execution_count": null,
   "id": "d9823eed-f977-492c-bbd6-1131c6ccba52",
   "metadata": {},
   "outputs": [],
   "source": [
    "df = pd.read_csv(\"Data/data_science_salary_2021.csv\")"
   ]
  },
  {
   "cell_type": "code",
   "execution_count": null,
   "id": "d8db72fb-a09a-4334-9afa-519374860d7f",
   "metadata": {},
   "outputs": [],
   "source": [
    "df.head()"
   ]
  },
  {
   "cell_type": "code",
   "execution_count": null,
   "id": "50b10e0a-d3ae-4704-8b35-4b3e721dc541",
   "metadata": {},
   "outputs": [],
   "source": [
    "df.info()"
   ]
  },
  {
   "cell_type": "markdown",
   "id": "92555712-67d5-4dd0-9e25-e55c88b5a33c",
   "metadata": {},
   "source": [
    "### According to job_title_sim what is the mean average sim"
   ]
  },
  {
   "cell_type": "code",
   "execution_count": null,
   "id": "fa5e7e6e-76b7-4a75-857c-f5c7cf013a18",
   "metadata": {},
   "outputs": [],
   "source": [
    "ax = sns.barplot(data=df, x='job_title_sim',y='Avg Salary(K)')\n",
    "ax.set_xticklabels(ax.get_xticklabels(),rotation=45,ha = 'right');\n",
    "#plt.tick_params(labelrotation =45)"
   ]
  },
  {
   "cell_type": "code",
   "execution_count": null,
   "id": "b8813cc8-8554-4dbf-87cd-ff2e086a3d9a",
   "metadata": {},
   "outputs": [],
   "source": [
    "# save barplot\n",
    "plt.savefig('barplot.png', bbox_inches='tight')"
   ]
  },
  {
   "cell_type": "code",
   "execution_count": null,
   "id": "12436807-c598-49ee-bb04-9caa7e3f42cd",
   "metadata": {},
   "outputs": [],
   "source": []
  },
  {
   "cell_type": "code",
   "execution_count": null,
   "id": "d4124007-f1c1-4a0b-a91e-358f9b4cbb65",
   "metadata": {},
   "outputs": [],
   "source": []
  }
 ],
 "metadata": {
  "kernelspec": {
   "display_name": "Python 3 (ipykernel)",
   "language": "python",
   "name": "python3"
  },
  "language_info": {
   "codemirror_mode": {
    "name": "ipython",
    "version": 3
   },
   "file_extension": ".py",
   "mimetype": "text/x-python",
   "name": "python",
   "nbconvert_exporter": "python",
   "pygments_lexer": "ipython3",
   "version": "3.10.10"
  },
  "widgets": {
   "application/vnd.jupyter.widget-state+json": {
    "state": {},
    "version_major": 2,
    "version_minor": 0
   }
  }
 },
 "nbformat": 4,
 "nbformat_minor": 5
}
